{
 "cells": [
  {
   "cell_type": "code",
   "execution_count": null,
   "metadata": {
    "colab": {
     "base_uri": "https://localhost:8080/"
    },
    "id": "MipGjl6jW-4W",
    "outputId": "51fc16c2-eff9-4e0a-9ab2-61b35870d9f0"
   },
   "outputs": [
    {
     "name": "stdout",
     "output_type": "stream",
     "text": [
      "Drive already mounted at /content/drive/; to attempt to forcibly remount, call drive.mount(\"/content/drive/\", force_remount=True).\n"
     ]
    }
   ],
   "source": [
    "from google.colab import drive\n",
    "drive.mount('/content/drive/')"
   ]
  },
  {
   "cell_type": "code",
   "execution_count": null,
   "metadata": {
    "id": "xrVJ_TGd2j8E"
   },
   "outputs": [],
   "source": [
    "!pip install torchtext==0.6.0"
   ]
  },
  {
   "cell_type": "code",
   "execution_count": null,
   "metadata": {
    "colab": {
     "base_uri": "https://localhost:8080/"
    },
    "id": "TupI8fx5zhrQ",
    "outputId": "ebd055d8-9f46-4308-c96e-b6fa6593c6c0"
   },
   "outputs": [
    {
     "name": "stdout",
     "output_type": "stream",
     "text": [
      "Requirement already satisfied: fugashi[unidic-lite] in /usr/local/lib/python3.6/dist-packages (1.0.5)\n",
      "Requirement already satisfied: unidic-lite; extra == \"unidic-lite\" in /usr/local/lib/python3.6/dist-packages (from fugashi[unidic-lite]) (1.0.7)\n"
     ]
    }
   ],
   "source": [
    "!pip install fugashi[unidic-lite]"
   ]
  },
  {
   "cell_type": "code",
   "execution_count": null,
   "metadata": {
    "colab": {
     "base_uri": "https://localhost:8080/"
    },
    "id": "Kd_ib9YwLwTQ",
    "outputId": "51de8f7d-c23f-42bf-bc78-333c759b26cb"
   },
   "outputs": [
    {
     "name": "stdout",
     "output_type": "stream",
     "text": [
      "Requirement already up-to-date: spacy in /usr/local/lib/python3.6/dist-packages (2.3.2)\n",
      "Requirement already satisfied, skipping upgrade: preshed<3.1.0,>=3.0.2 in /usr/local/lib/python3.6/dist-packages (from spacy) (3.0.2)\n",
      "Requirement already satisfied, skipping upgrade: blis<0.5.0,>=0.4.0 in /usr/local/lib/python3.6/dist-packages (from spacy) (0.4.1)\n",
      "Requirement already satisfied, skipping upgrade: murmurhash<1.1.0,>=0.28.0 in /usr/local/lib/python3.6/dist-packages (from spacy) (1.0.3)\n",
      "Requirement already satisfied, skipping upgrade: numpy>=1.15.0 in /usr/local/lib/python3.6/dist-packages (from spacy) (1.18.5)\n",
      "Requirement already satisfied, skipping upgrade: thinc==7.4.1 in /usr/local/lib/python3.6/dist-packages (from spacy) (7.4.1)\n",
      "Requirement already satisfied, skipping upgrade: srsly<1.1.0,>=1.0.2 in /usr/local/lib/python3.6/dist-packages (from spacy) (1.0.2)\n",
      "Requirement already satisfied, skipping upgrade: requests<3.0.0,>=2.13.0 in /usr/local/lib/python3.6/dist-packages (from spacy) (2.23.0)\n",
      "Requirement already satisfied, skipping upgrade: plac<1.2.0,>=0.9.6 in /usr/local/lib/python3.6/dist-packages (from spacy) (1.1.3)\n",
      "Requirement already satisfied, skipping upgrade: wasabi<1.1.0,>=0.4.0 in /usr/local/lib/python3.6/dist-packages (from spacy) (0.8.0)\n",
      "Requirement already satisfied, skipping upgrade: cymem<2.1.0,>=2.0.2 in /usr/local/lib/python3.6/dist-packages (from spacy) (2.0.4)\n",
      "Requirement already satisfied, skipping upgrade: tqdm<5.0.0,>=4.38.0 in /usr/local/lib/python3.6/dist-packages (from spacy) (4.41.1)\n",
      "Requirement already satisfied, skipping upgrade: setuptools in /usr/local/lib/python3.6/dist-packages (from spacy) (50.3.2)\n",
      "Requirement already satisfied, skipping upgrade: catalogue<1.1.0,>=0.0.7 in /usr/local/lib/python3.6/dist-packages (from spacy) (1.0.0)\n",
      "Requirement already satisfied, skipping upgrade: idna<3,>=2.5 in /usr/local/lib/python3.6/dist-packages (from requests<3.0.0,>=2.13.0->spacy) (2.10)\n",
      "Requirement already satisfied, skipping upgrade: certifi>=2017.4.17 in /usr/local/lib/python3.6/dist-packages (from requests<3.0.0,>=2.13.0->spacy) (2020.6.20)\n",
      "Requirement already satisfied, skipping upgrade: chardet<4,>=3.0.2 in /usr/local/lib/python3.6/dist-packages (from requests<3.0.0,>=2.13.0->spacy) (3.0.4)\n",
      "Requirement already satisfied, skipping upgrade: urllib3!=1.25.0,!=1.25.1,<1.26,>=1.21.1 in /usr/local/lib/python3.6/dist-packages (from requests<3.0.0,>=2.13.0->spacy) (1.24.3)\n",
      "Requirement already satisfied, skipping upgrade: importlib-metadata>=0.20; python_version < \"3.8\" in /usr/local/lib/python3.6/dist-packages (from catalogue<1.1.0,>=0.0.7->spacy) (2.0.0)\n",
      "Requirement already satisfied, skipping upgrade: zipp>=0.5 in /usr/local/lib/python3.6/dist-packages (from importlib-metadata>=0.20; python_version < \"3.8\"->catalogue<1.1.0,>=0.0.7->spacy) (3.4.0)\n"
     ]
    }
   ],
   "source": [
    "!pip install -U spacy"
   ]
  },
  {
   "cell_type": "code",
   "execution_count": null,
   "metadata": {
    "colab": {
     "base_uri": "https://localhost:8080/"
    },
    "id": "CME9VCFxGwkP",
    "outputId": "4a82b47b-baca-44ee-867c-526f3f5e2c81"
   },
   "outputs": [
    {
     "name": "stdout",
     "output_type": "stream",
     "text": [
      "Requirement already satisfied: en_core_web_sm==2.3.1 from https://github.com/explosion/spacy-models/releases/download/en_core_web_sm-2.3.1/en_core_web_sm-2.3.1.tar.gz#egg=en_core_web_sm==2.3.1 in /usr/local/lib/python3.6/dist-packages (2.3.1)\n",
      "Requirement already satisfied: spacy<2.4.0,>=2.3.0 in /usr/local/lib/python3.6/dist-packages (from en_core_web_sm==2.3.1) (2.3.2)\n",
      "Requirement already satisfied: requests<3.0.0,>=2.13.0 in /usr/local/lib/python3.6/dist-packages (from spacy<2.4.0,>=2.3.0->en_core_web_sm==2.3.1) (2.23.0)\n",
      "Requirement already satisfied: catalogue<1.1.0,>=0.0.7 in /usr/local/lib/python3.6/dist-packages (from spacy<2.4.0,>=2.3.0->en_core_web_sm==2.3.1) (1.0.0)\n",
      "Requirement already satisfied: cymem<2.1.0,>=2.0.2 in /usr/local/lib/python3.6/dist-packages (from spacy<2.4.0,>=2.3.0->en_core_web_sm==2.3.1) (2.0.4)\n",
      "Requirement already satisfied: thinc==7.4.1 in /usr/local/lib/python3.6/dist-packages (from spacy<2.4.0,>=2.3.0->en_core_web_sm==2.3.1) (7.4.1)\n",
      "Requirement already satisfied: numpy>=1.15.0 in /usr/local/lib/python3.6/dist-packages (from spacy<2.4.0,>=2.3.0->en_core_web_sm==2.3.1) (1.18.5)\n",
      "Requirement already satisfied: wasabi<1.1.0,>=0.4.0 in /usr/local/lib/python3.6/dist-packages (from spacy<2.4.0,>=2.3.0->en_core_web_sm==2.3.1) (0.8.0)\n",
      "Requirement already satisfied: preshed<3.1.0,>=3.0.2 in /usr/local/lib/python3.6/dist-packages (from spacy<2.4.0,>=2.3.0->en_core_web_sm==2.3.1) (3.0.2)\n",
      "Requirement already satisfied: setuptools in /usr/local/lib/python3.6/dist-packages (from spacy<2.4.0,>=2.3.0->en_core_web_sm==2.3.1) (50.3.2)\n",
      "Requirement already satisfied: plac<1.2.0,>=0.9.6 in /usr/local/lib/python3.6/dist-packages (from spacy<2.4.0,>=2.3.0->en_core_web_sm==2.3.1) (1.1.3)\n",
      "Requirement already satisfied: murmurhash<1.1.0,>=0.28.0 in /usr/local/lib/python3.6/dist-packages (from spacy<2.4.0,>=2.3.0->en_core_web_sm==2.3.1) (1.0.3)\n",
      "Requirement already satisfied: blis<0.5.0,>=0.4.0 in /usr/local/lib/python3.6/dist-packages (from spacy<2.4.0,>=2.3.0->en_core_web_sm==2.3.1) (0.4.1)\n",
      "Requirement already satisfied: tqdm<5.0.0,>=4.38.0 in /usr/local/lib/python3.6/dist-packages (from spacy<2.4.0,>=2.3.0->en_core_web_sm==2.3.1) (4.41.1)\n",
      "Requirement already satisfied: srsly<1.1.0,>=1.0.2 in /usr/local/lib/python3.6/dist-packages (from spacy<2.4.0,>=2.3.0->en_core_web_sm==2.3.1) (1.0.2)\n",
      "Requirement already satisfied: idna<3,>=2.5 in /usr/local/lib/python3.6/dist-packages (from requests<3.0.0,>=2.13.0->spacy<2.4.0,>=2.3.0->en_core_web_sm==2.3.1) (2.10)\n",
      "Requirement already satisfied: certifi>=2017.4.17 in /usr/local/lib/python3.6/dist-packages (from requests<3.0.0,>=2.13.0->spacy<2.4.0,>=2.3.0->en_core_web_sm==2.3.1) (2020.6.20)\n",
      "Requirement already satisfied: urllib3!=1.25.0,!=1.25.1,<1.26,>=1.21.1 in /usr/local/lib/python3.6/dist-packages (from requests<3.0.0,>=2.13.0->spacy<2.4.0,>=2.3.0->en_core_web_sm==2.3.1) (1.24.3)\n",
      "Requirement already satisfied: chardet<4,>=3.0.2 in /usr/local/lib/python3.6/dist-packages (from requests<3.0.0,>=2.13.0->spacy<2.4.0,>=2.3.0->en_core_web_sm==2.3.1) (3.0.4)\n",
      "Requirement already satisfied: importlib-metadata>=0.20; python_version < \"3.8\" in /usr/local/lib/python3.6/dist-packages (from catalogue<1.1.0,>=0.0.7->spacy<2.4.0,>=2.3.0->en_core_web_sm==2.3.1) (2.0.0)\n",
      "Requirement already satisfied: zipp>=0.5 in /usr/local/lib/python3.6/dist-packages (from importlib-metadata>=0.20; python_version < \"3.8\"->catalogue<1.1.0,>=0.0.7->spacy<2.4.0,>=2.3.0->en_core_web_sm==2.3.1) (3.4.0)\n",
      "\u001b[38;5;2m✔ Download and installation successful\u001b[0m\n",
      "You can now load the model via spacy.load('en_core_web_sm')\n"
     ]
    }
   ],
   "source": [
    "!python -m spacy download en_core_web_sm"
   ]
  },
  {
   "cell_type": "code",
   "execution_count": null,
   "metadata": {
    "colab": {
     "base_uri": "https://localhost:8080/"
    },
    "id": "xZTb9ARCGYKg",
    "outputId": "5b38d0e1-8a1d-47c5-8d7e-ccf5fe9acb53"
   },
   "outputs": [
    {
     "name": "stdout",
     "output_type": "stream",
     "text": [
      "Requirement already satisfied: ja_core_news_sm==2.3.2 from https://github.com/explosion/spacy-models/releases/download/ja_core_news_sm-2.3.2/ja_core_news_sm-2.3.2.tar.gz#egg=ja_core_news_sm==2.3.2 in /usr/local/lib/python3.6/dist-packages (2.3.2)\n",
      "Requirement already satisfied: sudachidict-core>=20200330 in /usr/local/lib/python3.6/dist-packages (from ja_core_news_sm==2.3.2) (20200722)\n",
      "Requirement already satisfied: sudachipy>=0.4.5 in /usr/local/lib/python3.6/dist-packages (from ja_core_news_sm==2.3.2) (0.4.9)\n",
      "Requirement already satisfied: spacy<2.4.0,>=2.3.0 in /usr/local/lib/python3.6/dist-packages (from ja_core_news_sm==2.3.2) (2.3.2)\n",
      "Requirement already satisfied: dartsclone~=0.9.0 in /usr/local/lib/python3.6/dist-packages (from sudachipy>=0.4.5->ja_core_news_sm==2.3.2) (0.9.0)\n",
      "Requirement already satisfied: sortedcontainers~=2.1.0 in /usr/local/lib/python3.6/dist-packages (from sudachipy>=0.4.5->ja_core_news_sm==2.3.2) (2.1.0)\n",
      "Requirement already satisfied: setuptools in /usr/local/lib/python3.6/dist-packages (from spacy<2.4.0,>=2.3.0->ja_core_news_sm==2.3.2) (50.3.2)\n",
      "Requirement already satisfied: tqdm<5.0.0,>=4.38.0 in /usr/local/lib/python3.6/dist-packages (from spacy<2.4.0,>=2.3.0->ja_core_news_sm==2.3.2) (4.41.1)\n",
      "Requirement already satisfied: wasabi<1.1.0,>=0.4.0 in /usr/local/lib/python3.6/dist-packages (from spacy<2.4.0,>=2.3.0->ja_core_news_sm==2.3.2) (0.8.0)\n",
      "Requirement already satisfied: catalogue<1.1.0,>=0.0.7 in /usr/local/lib/python3.6/dist-packages (from spacy<2.4.0,>=2.3.0->ja_core_news_sm==2.3.2) (1.0.0)\n",
      "Requirement already satisfied: srsly<1.1.0,>=1.0.2 in /usr/local/lib/python3.6/dist-packages (from spacy<2.4.0,>=2.3.0->ja_core_news_sm==2.3.2) (1.0.2)\n",
      "Requirement already satisfied: numpy>=1.15.0 in /usr/local/lib/python3.6/dist-packages (from spacy<2.4.0,>=2.3.0->ja_core_news_sm==2.3.2) (1.18.5)\n",
      "Requirement already satisfied: thinc==7.4.1 in /usr/local/lib/python3.6/dist-packages (from spacy<2.4.0,>=2.3.0->ja_core_news_sm==2.3.2) (7.4.1)\n",
      "Requirement already satisfied: requests<3.0.0,>=2.13.0 in /usr/local/lib/python3.6/dist-packages (from spacy<2.4.0,>=2.3.0->ja_core_news_sm==2.3.2) (2.23.0)\n",
      "Requirement already satisfied: plac<1.2.0,>=0.9.6 in /usr/local/lib/python3.6/dist-packages (from spacy<2.4.0,>=2.3.0->ja_core_news_sm==2.3.2) (1.1.3)\n",
      "Requirement already satisfied: preshed<3.1.0,>=3.0.2 in /usr/local/lib/python3.6/dist-packages (from spacy<2.4.0,>=2.3.0->ja_core_news_sm==2.3.2) (3.0.2)\n",
      "Requirement already satisfied: murmurhash<1.1.0,>=0.28.0 in /usr/local/lib/python3.6/dist-packages (from spacy<2.4.0,>=2.3.0->ja_core_news_sm==2.3.2) (1.0.3)\n",
      "Requirement already satisfied: cymem<2.1.0,>=2.0.2 in /usr/local/lib/python3.6/dist-packages (from spacy<2.4.0,>=2.3.0->ja_core_news_sm==2.3.2) (2.0.4)\n",
      "Requirement already satisfied: blis<0.5.0,>=0.4.0 in /usr/local/lib/python3.6/dist-packages (from spacy<2.4.0,>=2.3.0->ja_core_news_sm==2.3.2) (0.4.1)\n",
      "Requirement already satisfied: Cython in /usr/local/lib/python3.6/dist-packages (from dartsclone~=0.9.0->sudachipy>=0.4.5->ja_core_news_sm==2.3.2) (0.29.21)\n",
      "Requirement already satisfied: importlib-metadata>=0.20; python_version < \"3.8\" in /usr/local/lib/python3.6/dist-packages (from catalogue<1.1.0,>=0.0.7->spacy<2.4.0,>=2.3.0->ja_core_news_sm==2.3.2) (2.0.0)\n",
      "Requirement already satisfied: certifi>=2017.4.17 in /usr/local/lib/python3.6/dist-packages (from requests<3.0.0,>=2.13.0->spacy<2.4.0,>=2.3.0->ja_core_news_sm==2.3.2) (2020.6.20)\n",
      "Requirement already satisfied: urllib3!=1.25.0,!=1.25.1,<1.26,>=1.21.1 in /usr/local/lib/python3.6/dist-packages (from requests<3.0.0,>=2.13.0->spacy<2.4.0,>=2.3.0->ja_core_news_sm==2.3.2) (1.24.3)\n",
      "Requirement already satisfied: idna<3,>=2.5 in /usr/local/lib/python3.6/dist-packages (from requests<3.0.0,>=2.13.0->spacy<2.4.0,>=2.3.0->ja_core_news_sm==2.3.2) (2.10)\n",
      "Requirement already satisfied: chardet<4,>=3.0.2 in /usr/local/lib/python3.6/dist-packages (from requests<3.0.0,>=2.13.0->spacy<2.4.0,>=2.3.0->ja_core_news_sm==2.3.2) (3.0.4)\n",
      "Requirement already satisfied: zipp>=0.5 in /usr/local/lib/python3.6/dist-packages (from importlib-metadata>=0.20; python_version < \"3.8\"->catalogue<1.1.0,>=0.0.7->spacy<2.4.0,>=2.3.0->ja_core_news_sm==2.3.2) (3.4.0)\n",
      "\u001b[38;5;2m✔ Download and installation successful\u001b[0m\n",
      "You can now load the model via spacy.load('ja_core_news_sm')\n"
     ]
    }
   ],
   "source": [
    "!python -m spacy download ja_core_news_sm"
   ]
  },
  {
   "cell_type": "markdown",
   "metadata": {
    "id": "ah5gsjLQO2fT"
   },
   "source": [
    "# INTRODUCTION\n",
    "The most common sequence-to-sequence (seq2seq) models are *encoder-decoder* models, which commonly use a *recurrent neural network* (RNN) to *encode* the source (input) sentence into a single vector. In this notebook, we'll refer to this single vector as a *context vector*. We can think of the context vector as being an abstract representation of the entire input sentence. This vector is then *decoded* by a second RNN which learns to output the target (output) sentence by generating it one word at a time.\n",
    "\n",
    "![image.png](data:image/png;base64,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)"
   ]
  },
  {
   "cell_type": "markdown",
   "metadata": {
    "id": "1e645PS_XHdZ"
   },
   "source": [
    "Change the path"
   ]
  },
  {
   "cell_type": "code",
   "execution_count": 1,
   "metadata": {
    "id": "6OS43uF4XJwb"
   },
   "outputs": [
    {
     "ename": "FileNotFoundError",
     "evalue": "[Errno 2] File drive/My Drive/NLP/kyoto_lexicon.csv does not exist: 'drive/My Drive/NLP/kyoto_lexicon.csv'",
     "output_type": "error",
     "traceback": [
      "\u001b[1;31m---------------------------------------------------------------------------\u001b[0m",
      "\u001b[1;31mFileNotFoundError\u001b[0m                         Traceback (most recent call last)",
      "\u001b[1;32m<ipython-input-1-6693741b1cac>\u001b[0m in \u001b[0;36m<module>\u001b[1;34m\u001b[0m\n\u001b[0;32m      3\u001b[0m \u001b[1;33m\u001b[0m\u001b[0m\n\u001b[0;32m      4\u001b[0m \u001b[0mpath\u001b[0m \u001b[1;33m=\u001b[0m \u001b[1;34m\"drive/My Drive/NLP/kyoto_lexicon.csv\"\u001b[0m\u001b[1;33m\u001b[0m\u001b[1;33m\u001b[0m\u001b[0m\n\u001b[1;32m----> 5\u001b[1;33m \u001b[0mdf\u001b[0m \u001b[1;33m=\u001b[0m \u001b[0mpd\u001b[0m\u001b[1;33m.\u001b[0m\u001b[0mread_csv\u001b[0m\u001b[1;33m(\u001b[0m\u001b[0mpath\u001b[0m\u001b[1;33m,\u001b[0m \u001b[0merror_bad_lines\u001b[0m\u001b[1;33m=\u001b[0m\u001b[1;32mFalse\u001b[0m\u001b[1;33m,\u001b[0m \u001b[0musecols\u001b[0m\u001b[1;33m=\u001b[0m\u001b[1;33m[\u001b[0m\u001b[1;36m0\u001b[0m\u001b[1;33m,\u001b[0m\u001b[1;36m1\u001b[0m\u001b[1;33m]\u001b[0m\u001b[1;33m,\u001b[0m \u001b[0mheader\u001b[0m\u001b[1;33m=\u001b[0m\u001b[1;36m0\u001b[0m\u001b[1;33m)\u001b[0m\u001b[1;33m\u001b[0m\u001b[1;33m\u001b[0m\u001b[0m\n\u001b[0m",
      "\u001b[1;32mC:\\ProgramData\\Anaconda3\\lib\\site-packages\\pandas\\io\\parsers.py\u001b[0m in \u001b[0;36mparser_f\u001b[1;34m(filepath_or_buffer, sep, delimiter, header, names, index_col, usecols, squeeze, prefix, mangle_dupe_cols, dtype, engine, converters, true_values, false_values, skipinitialspace, skiprows, skipfooter, nrows, na_values, keep_default_na, na_filter, verbose, skip_blank_lines, parse_dates, infer_datetime_format, keep_date_col, date_parser, dayfirst, cache_dates, iterator, chunksize, compression, thousands, decimal, lineterminator, quotechar, quoting, doublequote, escapechar, comment, encoding, dialect, error_bad_lines, warn_bad_lines, delim_whitespace, low_memory, memory_map, float_precision)\u001b[0m\n\u001b[0;32m    674\u001b[0m         )\n\u001b[0;32m    675\u001b[0m \u001b[1;33m\u001b[0m\u001b[0m\n\u001b[1;32m--> 676\u001b[1;33m         \u001b[1;32mreturn\u001b[0m \u001b[0m_read\u001b[0m\u001b[1;33m(\u001b[0m\u001b[0mfilepath_or_buffer\u001b[0m\u001b[1;33m,\u001b[0m \u001b[0mkwds\u001b[0m\u001b[1;33m)\u001b[0m\u001b[1;33m\u001b[0m\u001b[1;33m\u001b[0m\u001b[0m\n\u001b[0m\u001b[0;32m    677\u001b[0m \u001b[1;33m\u001b[0m\u001b[0m\n\u001b[0;32m    678\u001b[0m     \u001b[0mparser_f\u001b[0m\u001b[1;33m.\u001b[0m\u001b[0m__name__\u001b[0m \u001b[1;33m=\u001b[0m \u001b[0mname\u001b[0m\u001b[1;33m\u001b[0m\u001b[1;33m\u001b[0m\u001b[0m\n",
      "\u001b[1;32mC:\\ProgramData\\Anaconda3\\lib\\site-packages\\pandas\\io\\parsers.py\u001b[0m in \u001b[0;36m_read\u001b[1;34m(filepath_or_buffer, kwds)\u001b[0m\n\u001b[0;32m    446\u001b[0m \u001b[1;33m\u001b[0m\u001b[0m\n\u001b[0;32m    447\u001b[0m     \u001b[1;31m# Create the parser.\u001b[0m\u001b[1;33m\u001b[0m\u001b[1;33m\u001b[0m\u001b[1;33m\u001b[0m\u001b[0m\n\u001b[1;32m--> 448\u001b[1;33m     \u001b[0mparser\u001b[0m \u001b[1;33m=\u001b[0m \u001b[0mTextFileReader\u001b[0m\u001b[1;33m(\u001b[0m\u001b[0mfp_or_buf\u001b[0m\u001b[1;33m,\u001b[0m \u001b[1;33m**\u001b[0m\u001b[0mkwds\u001b[0m\u001b[1;33m)\u001b[0m\u001b[1;33m\u001b[0m\u001b[1;33m\u001b[0m\u001b[0m\n\u001b[0m\u001b[0;32m    449\u001b[0m \u001b[1;33m\u001b[0m\u001b[0m\n\u001b[0;32m    450\u001b[0m     \u001b[1;32mif\u001b[0m \u001b[0mchunksize\u001b[0m \u001b[1;32mor\u001b[0m \u001b[0miterator\u001b[0m\u001b[1;33m:\u001b[0m\u001b[1;33m\u001b[0m\u001b[1;33m\u001b[0m\u001b[0m\n",
      "\u001b[1;32mC:\\ProgramData\\Anaconda3\\lib\\site-packages\\pandas\\io\\parsers.py\u001b[0m in \u001b[0;36m__init__\u001b[1;34m(self, f, engine, **kwds)\u001b[0m\n\u001b[0;32m    878\u001b[0m             \u001b[0mself\u001b[0m\u001b[1;33m.\u001b[0m\u001b[0moptions\u001b[0m\u001b[1;33m[\u001b[0m\u001b[1;34m\"has_index_names\"\u001b[0m\u001b[1;33m]\u001b[0m \u001b[1;33m=\u001b[0m \u001b[0mkwds\u001b[0m\u001b[1;33m[\u001b[0m\u001b[1;34m\"has_index_names\"\u001b[0m\u001b[1;33m]\u001b[0m\u001b[1;33m\u001b[0m\u001b[1;33m\u001b[0m\u001b[0m\n\u001b[0;32m    879\u001b[0m \u001b[1;33m\u001b[0m\u001b[0m\n\u001b[1;32m--> 880\u001b[1;33m         \u001b[0mself\u001b[0m\u001b[1;33m.\u001b[0m\u001b[0m_make_engine\u001b[0m\u001b[1;33m(\u001b[0m\u001b[0mself\u001b[0m\u001b[1;33m.\u001b[0m\u001b[0mengine\u001b[0m\u001b[1;33m)\u001b[0m\u001b[1;33m\u001b[0m\u001b[1;33m\u001b[0m\u001b[0m\n\u001b[0m\u001b[0;32m    881\u001b[0m \u001b[1;33m\u001b[0m\u001b[0m\n\u001b[0;32m    882\u001b[0m     \u001b[1;32mdef\u001b[0m \u001b[0mclose\u001b[0m\u001b[1;33m(\u001b[0m\u001b[0mself\u001b[0m\u001b[1;33m)\u001b[0m\u001b[1;33m:\u001b[0m\u001b[1;33m\u001b[0m\u001b[1;33m\u001b[0m\u001b[0m\n",
      "\u001b[1;32mC:\\ProgramData\\Anaconda3\\lib\\site-packages\\pandas\\io\\parsers.py\u001b[0m in \u001b[0;36m_make_engine\u001b[1;34m(self, engine)\u001b[0m\n\u001b[0;32m   1112\u001b[0m     \u001b[1;32mdef\u001b[0m \u001b[0m_make_engine\u001b[0m\u001b[1;33m(\u001b[0m\u001b[0mself\u001b[0m\u001b[1;33m,\u001b[0m \u001b[0mengine\u001b[0m\u001b[1;33m=\u001b[0m\u001b[1;34m\"c\"\u001b[0m\u001b[1;33m)\u001b[0m\u001b[1;33m:\u001b[0m\u001b[1;33m\u001b[0m\u001b[1;33m\u001b[0m\u001b[0m\n\u001b[0;32m   1113\u001b[0m         \u001b[1;32mif\u001b[0m \u001b[0mengine\u001b[0m \u001b[1;33m==\u001b[0m \u001b[1;34m\"c\"\u001b[0m\u001b[1;33m:\u001b[0m\u001b[1;33m\u001b[0m\u001b[1;33m\u001b[0m\u001b[0m\n\u001b[1;32m-> 1114\u001b[1;33m             \u001b[0mself\u001b[0m\u001b[1;33m.\u001b[0m\u001b[0m_engine\u001b[0m \u001b[1;33m=\u001b[0m \u001b[0mCParserWrapper\u001b[0m\u001b[1;33m(\u001b[0m\u001b[0mself\u001b[0m\u001b[1;33m.\u001b[0m\u001b[0mf\u001b[0m\u001b[1;33m,\u001b[0m \u001b[1;33m**\u001b[0m\u001b[0mself\u001b[0m\u001b[1;33m.\u001b[0m\u001b[0moptions\u001b[0m\u001b[1;33m)\u001b[0m\u001b[1;33m\u001b[0m\u001b[1;33m\u001b[0m\u001b[0m\n\u001b[0m\u001b[0;32m   1115\u001b[0m         \u001b[1;32melse\u001b[0m\u001b[1;33m:\u001b[0m\u001b[1;33m\u001b[0m\u001b[1;33m\u001b[0m\u001b[0m\n\u001b[0;32m   1116\u001b[0m             \u001b[1;32mif\u001b[0m \u001b[0mengine\u001b[0m \u001b[1;33m==\u001b[0m \u001b[1;34m\"python\"\u001b[0m\u001b[1;33m:\u001b[0m\u001b[1;33m\u001b[0m\u001b[1;33m\u001b[0m\u001b[0m\n",
      "\u001b[1;32mC:\\ProgramData\\Anaconda3\\lib\\site-packages\\pandas\\io\\parsers.py\u001b[0m in \u001b[0;36m__init__\u001b[1;34m(self, src, **kwds)\u001b[0m\n\u001b[0;32m   1889\u001b[0m         \u001b[0mkwds\u001b[0m\u001b[1;33m[\u001b[0m\u001b[1;34m\"usecols\"\u001b[0m\u001b[1;33m]\u001b[0m \u001b[1;33m=\u001b[0m \u001b[0mself\u001b[0m\u001b[1;33m.\u001b[0m\u001b[0musecols\u001b[0m\u001b[1;33m\u001b[0m\u001b[1;33m\u001b[0m\u001b[0m\n\u001b[0;32m   1890\u001b[0m \u001b[1;33m\u001b[0m\u001b[0m\n\u001b[1;32m-> 1891\u001b[1;33m         \u001b[0mself\u001b[0m\u001b[1;33m.\u001b[0m\u001b[0m_reader\u001b[0m \u001b[1;33m=\u001b[0m \u001b[0mparsers\u001b[0m\u001b[1;33m.\u001b[0m\u001b[0mTextReader\u001b[0m\u001b[1;33m(\u001b[0m\u001b[0msrc\u001b[0m\u001b[1;33m,\u001b[0m \u001b[1;33m**\u001b[0m\u001b[0mkwds\u001b[0m\u001b[1;33m)\u001b[0m\u001b[1;33m\u001b[0m\u001b[1;33m\u001b[0m\u001b[0m\n\u001b[0m\u001b[0;32m   1892\u001b[0m         \u001b[0mself\u001b[0m\u001b[1;33m.\u001b[0m\u001b[0munnamed_cols\u001b[0m \u001b[1;33m=\u001b[0m \u001b[0mself\u001b[0m\u001b[1;33m.\u001b[0m\u001b[0m_reader\u001b[0m\u001b[1;33m.\u001b[0m\u001b[0munnamed_cols\u001b[0m\u001b[1;33m\u001b[0m\u001b[1;33m\u001b[0m\u001b[0m\n\u001b[0;32m   1893\u001b[0m \u001b[1;33m\u001b[0m\u001b[0m\n",
      "\u001b[1;32mpandas\\_libs\\parsers.pyx\u001b[0m in \u001b[0;36mpandas._libs.parsers.TextReader.__cinit__\u001b[1;34m()\u001b[0m\n",
      "\u001b[1;32mpandas\\_libs\\parsers.pyx\u001b[0m in \u001b[0;36mpandas._libs.parsers.TextReader._setup_parser_source\u001b[1;34m()\u001b[0m\n",
      "\u001b[1;31mFileNotFoundError\u001b[0m: [Errno 2] File drive/My Drive/NLP/kyoto_lexicon.csv does not exist: 'drive/My Drive/NLP/kyoto_lexicon.csv'"
     ]
    }
   ],
   "source": [
    "import numpy as np\n",
    "import pandas as pd\n",
    "\n",
    "path = \"drive/My Drive/NLP/kyoto_lexicon.csv\"\n",
    "df = pd.read_csv(path, error_bad_lines=False, usecols=[0,1], header=0)"
   ]
  },
  {
   "cell_type": "code",
   "execution_count": null,
   "metadata": {
    "id": "vYLbxtXlzia1"
   },
   "outputs": [],
   "source": [
    "import torch\n",
    "import spacy\n",
    "import random\n",
    "import math\n",
    "import time\n",
    "import numpy as np\n",
    "import torch.nn as nn\n",
    "import pandas as pd\n",
    "import torch.optim as optim\n",
    "\n",
    "from torchtext.data import Field, BucketIterator, TabularDataset"
   ]
  },
  {
   "cell_type": "code",
   "execution_count": null,
   "metadata": {
    "colab": {
     "base_uri": "https://localhost:8080/",
     "height": 220
    },
    "id": "7e7xgSN4ziXN",
    "outputId": "550a5fbc-a123-402f-abe3-7e1bd077cf2a"
   },
   "outputs": [
    {
     "data": {
      "text/html": [
       "<div>\n",
       "<style scoped>\n",
       "    .dataframe tbody tr th:only-of-type {\n",
       "        vertical-align: middle;\n",
       "    }\n",
       "\n",
       "    .dataframe tbody tr th {\n",
       "        vertical-align: top;\n",
       "    }\n",
       "\n",
       "    .dataframe thead th {\n",
       "        text-align: right;\n",
       "    }\n",
       "</style>\n",
       "<table border=\"1\" class=\"dataframe\">\n",
       "  <thead>\n",
       "    <tr style=\"text-align: right;\">\n",
       "      <th></th>\n",
       "      <th>日本語</th>\n",
       "      <th>英語</th>\n",
       "    </tr>\n",
       "  </thead>\n",
       "  <tbody>\n",
       "    <tr>\n",
       "      <th>0</th>\n",
       "      <td>102世吉田日厚貫首</td>\n",
       "      <td>the 102nd head priest, Nikko TOSHIDA</td>\n",
       "    </tr>\n",
       "    <tr>\n",
       "      <th>1</th>\n",
       "      <td>1月15日：成人祭、新年祭</td>\n",
       "      <td>15th January: Seijin-sai (Adult Festival), the...</td>\n",
       "    </tr>\n",
       "    <tr>\n",
       "      <th>2</th>\n",
       "      <td>1月3日：家運隆盛、商売繁盛祈願祭</td>\n",
       "      <td>3rd January: Prayer Festival for the prosperit...</td>\n",
       "    </tr>\n",
       "    <tr>\n",
       "      <th>3</th>\n",
       "      <td>1月7日：七種粥神事</td>\n",
       "      <td>7th January: Nanakusa-gayu shinji (a divine se...</td>\n",
       "    </tr>\n",
       "    <tr>\n",
       "      <th>4</th>\n",
       "      <td>21世紀COEプログラム</td>\n",
       "      <td>The 21st Century Center Of Excellence Program</td>\n",
       "    </tr>\n",
       "  </tbody>\n",
       "</table>\n",
       "</div>"
      ],
      "text/plain": [
       "                 日本語                                                 英語\n",
       "0         102世吉田日厚貫首               the 102nd head priest, Nikko TOSHIDA\n",
       "1      1月15日：成人祭、新年祭  15th January: Seijin-sai (Adult Festival), the...\n",
       "2  1月3日：家運隆盛、商売繁盛祈願祭  3rd January: Prayer Festival for the prosperit...\n",
       "3         1月7日：七種粥神事  7th January: Nanakusa-gayu shinji (a divine se...\n",
       "4       21世紀COEプログラム      The 21st Century Center Of Excellence Program"
      ]
     },
     "execution_count": 12,
     "metadata": {
      "tags": []
     },
     "output_type": "execute_result"
    }
   ],
   "source": [
    "df.head()"
   ]
  },
  {
   "cell_type": "code",
   "execution_count": null,
   "metadata": {
    "colab": {
     "base_uri": "https://localhost:8080/"
    },
    "id": "ElyHAorRziTv",
    "outputId": "3cf1fc07-6faf-4491-b3f7-65a5af9a8b8e"
   },
   "outputs": [
    {
     "data": {
      "text/plain": [
       "Index(['日本語', '英語'], dtype='object')"
      ]
     },
     "execution_count": 13,
     "metadata": {
      "tags": []
     },
     "output_type": "execute_result"
    }
   ],
   "source": [
    "df.columns"
   ]
  },
  {
   "cell_type": "code",
   "execution_count": null,
   "metadata": {
    "id": "IjeW7G29ziQy"
   },
   "outputs": [],
   "source": [
    "df.rename(columns = {'日本語':'Japanese'}, inplace = True) \n",
    "df.rename(columns = {'英語':'English'}, inplace = True) "
   ]
  },
  {
   "cell_type": "code",
   "execution_count": null,
   "metadata": {
    "id": "M-a6NzsBzh7t"
   },
   "outputs": [],
   "source": [
    "spacy_ja = spacy.load('ja_core_news_sm')\n",
    "spacy_en = spacy.load('en_core_web_sm') "
   ]
  },
  {
   "cell_type": "code",
   "execution_count": null,
   "metadata": {
    "id": "0sQR12IhEo8X"
   },
   "outputs": [],
   "source": [
    "def tokenize_ja(text):\n",
    "    return [tok.text for tok in spacy_ja.tokenizer(text)][::-1]\n",
    "\n",
    "def tokenize_en(text):\n",
    "    return [tok.text for tok in spacy_en.tokenizer(text)]"
   ]
  },
  {
   "cell_type": "code",
   "execution_count": null,
   "metadata": {
    "id": "28LV5KZVWhD9"
   },
   "outputs": [],
   "source": [
    "train, validate, test = np.split(df.sample(frac=1), [int(.6*len(df)), int(.8*len(df))])"
   ]
  },
  {
   "cell_type": "code",
   "execution_count": null,
   "metadata": {
    "id": "AbMp4ED1PDDu"
   },
   "outputs": [],
   "source": [
    "train.to_csv('train.csv', index=False)\n",
    "validate.to_csv('val.csv', index=False)\n",
    "test.to_csv('test.csv', index=False)"
   ]
  },
  {
   "cell_type": "markdown",
   "metadata": {
    "id": "ZDVfEp1ZMtt-"
   },
   "source": [
    "Our model takes the src as the japanese text and the target as the english text. And we are appending the and tokens to the start and end of the sentence respectively."
   ]
  },
  {
   "cell_type": "code",
   "execution_count": null,
   "metadata": {
    "id": "hfvmeYzIPDBA"
   },
   "outputs": [],
   "source": [
    "SRC = Field(tokenize = tokenize_ja, \n",
    "            init_token = '<sos>', \n",
    "            eos_token = '<eos>', \n",
    "            lower = True)\n",
    "\n",
    "TRG = Field(tokenize = tokenize_en, \n",
    "            init_token = '<sos>', \n",
    "            eos_token = '<eos>', \n",
    "            lower = True)"
   ]
  },
  {
   "cell_type": "code",
   "execution_count": null,
   "metadata": {
    "id": "EnswJqWUel5S"
   },
   "outputs": [],
   "source": [
    "data_fields = [('Japanese', SRC), ('English', TRG)]\n"
   ]
  },
  {
   "cell_type": "markdown",
   "metadata": {
    "id": "4R3uUQqRM1Oa"
   },
   "source": [
    "Splitting the dataset into train, test and validation set."
   ]
  },
  {
   "cell_type": "code",
   "execution_count": null,
   "metadata": {
    "id": "3uRjC340PC-C"
   },
   "outputs": [],
   "source": [
    "train, val, test = TabularDataset.splits(path='./',\n",
    "                        train='train.csv', \n",
    "                        validation='val.csv',\n",
    "                        test = 'test.csv',\n",
    "                        format='csv',\n",
    "              \n",
    "                        fields = data_fields )\n"
   ]
  },
  {
   "cell_type": "code",
   "execution_count": null,
   "metadata": {
    "colab": {
     "base_uri": "https://localhost:8080/"
    },
    "id": "iRcaKhab5h7L",
    "outputId": "836bd792-a476-404e-f964-af42dc285e9c"
   },
   "outputs": [
    {
     "name": "stdout",
     "output_type": "stream",
     "text": [
      "<torchtext.data.example.Example object at 0x7fd99b09d5f8>\n"
     ]
    }
   ],
   "source": [
    "print(train.examples[0])"
   ]
  },
  {
   "cell_type": "code",
   "execution_count": null,
   "metadata": {
    "colab": {
     "base_uri": "https://localhost:8080/"
    },
    "id": "cg8ChHfrEpB8",
    "outputId": "79ee1930-214f-4344-daf1-893f66359823"
   },
   "outputs": [
    {
     "data": {
      "text/plain": [
       "(31190, 10397, 10398)"
      ]
     },
     "execution_count": 63,
     "metadata": {
      "tags": []
     },
     "output_type": "execute_result"
    }
   ],
   "source": [
    "len(train.examples), len(val.examples), len(test.examples)"
   ]
  },
  {
   "cell_type": "code",
   "execution_count": null,
   "metadata": {
    "id": "2jivZJT0Eo_Q"
   },
   "outputs": [],
   "source": [
    "SRC.build_vocab(train, min_freq = 2)\n",
    "TRG.build_vocab(train, min_freq = 2)"
   ]
  },
  {
   "cell_type": "code",
   "execution_count": null,
   "metadata": {
    "colab": {
     "base_uri": "https://localhost:8080/"
    },
    "id": "bvXd2jVjEo5e",
    "outputId": "e2342531-f28f-4fe1-9b4a-b86358b577d2"
   },
   "outputs": [
    {
     "name": "stdout",
     "output_type": "stream",
     "text": [
      "8628\n",
      "9640\n"
     ]
    }
   ],
   "source": [
    "print(len(SRC.vocab))\n",
    "print(len(TRG.vocab))"
   ]
  },
  {
   "cell_type": "markdown",
   "metadata": {
    "id": "B5kGcbiAM7e7"
   },
   "source": [
    "Then train_iter, valid_iterator, test_iter data is created using BucketIterator. We have used BucketIterator becuase it creates batched in such a way that it minimizes the amount of padding in both the source and the target sentences. The source attributes are PyTorch sensors that contains sequence of indexes of the tokens of the sources sentences and the target attribute are again the PyTorch sensors that contains sequence of indexes of the tokens of the target sentences.\n",
    "\n",
    "torch.device is also defined. If a GPU is available torch.device puts tensors on the GPU. The torch.cuda.is_available() function will return true if a GPU is identified. This tells us if the tensors should run in a standard runtime or GPU runtime. We pass this device to the iterator."
   ]
  },
  {
   "cell_type": "code",
   "execution_count": null,
   "metadata": {
    "id": "9KCKT5gO5l0L"
   },
   "outputs": [],
   "source": [
    "device = torch.device('cuda' if torch.cuda.is_available() else 'cpu')"
   ]
  },
  {
   "cell_type": "code",
   "execution_count": null,
   "metadata": {
    "id": "qJ0H1ta_0yW4"
   },
   "outputs": [],
   "source": [
    "BATCH_SIZE = 20\n",
    "\n",
    "train_iter = BucketIterator(\n",
    "    train,\n",
    "    batch_size=BATCH_SIZE,\n",
    "    device = device   \n",
    ")\n",
    "\n",
    "valid_iter = BucketIterator(\n",
    "    val,\n",
    "    batch_size=BATCH_SIZE,\n",
    "    device = device\n",
    ")\n",
    "\n",
    "test_iter = BucketIterator(\n",
    "    test,\n",
    "    batch_size = BATCH_SIZE,\n",
    "    device = device\n",
    ")"
   ]
  },
  {
   "cell_type": "markdown",
   "metadata": {
    "id": "rTtI82rbNAHP"
   },
   "source": [
    "As implemented in the reference, we are building the model into three parts. Encoder Decoder seq2seq model\n",
    "\n",
    "Encoder We have used 2 Layer LSTM encoder. The input sentence after being embedded goes into the first bottom layer of the RNN and the hidden states. The output of the states are used as inputs to the RNN for the layer above. So, only the hidden state from the first layer is passed as input to the second layer. Not all the cell state are passed.\n",
    "\n",
    "The embeddings are created by passing the sources sentences to the forward method which are converted into the dense vectors using the embedding layer. These are then passed to RNN. The forward function returns only the hidden and cell. THe n_directions is 1.\n",
    "\n",
    "We have inherited torch.nn.module and used the init function which takes some arguments explained in the next section."
   ]
  },
  {
   "cell_type": "code",
   "execution_count": null,
   "metadata": {
    "id": "P8HPOGBREotQ"
   },
   "outputs": [],
   "source": [
    "class Encoder(nn.Module):\n",
    "    def __init__(self, input_dim, emb_dim, hid_dim, n_layers, dropout):\n",
    "        super().__init__()\n",
    "        \n",
    "        self.hid_dim = hid_dim\n",
    "        self.n_layers = n_layers\n",
    "        \n",
    "        self.embedding = nn.Embedding(input_dim, emb_dim)\n",
    "        \n",
    "        self.rnn = nn.LSTM(emb_dim, hid_dim, n_layers, dropout = dropout)\n",
    "        \n",
    "        self.dropout = nn.Dropout(dropout)\n",
    "        \n",
    "    def forward(self, src):\n",
    "        \n",
    "        #src = [src len, batch size]\n",
    "        \n",
    "        embedded = self.dropout(self.embedding(src))\n",
    "        \n",
    "        #embedded = [src len, batch size, emb dim]\n",
    "        \n",
    "        outputs, (hidden, cell) = self.rnn(embedded)\n",
    "        \n",
    "        return hidden, cell"
   ]
  },
  {
   "cell_type": "markdown",
   "metadata": {
    "id": "JFun7yLRNEhT"
   },
   "source": [
    "The decoder outputs single token per step i.e., it does a single step of decoding. As the hidden and cell state is passed from the forward function of the encoder, the first layer of the encoder receives it and feeds it to the LSTM to produce a new hidden and cell state.\n",
    "\n",
    "In the forward method we take a batch of input tokens, previous hidden states and previous cell states. The imput token length will always be 1 as we are decoding one token at a time. Then as done in the encoder we pass it to the embedding layer and apply dropout."
   ]
  },
  {
   "cell_type": "code",
   "execution_count": null,
   "metadata": {
    "id": "ku6eqGEthFzI"
   },
   "outputs": [],
   "source": [
    "class Decoder(nn.Module):\n",
    "    def __init__(self, output_dim, emb_dim, hid_dim, n_layers, dropout):\n",
    "        super().__init__()\n",
    "        \n",
    "        self.output_dim = output_dim\n",
    "        self.hid_dim = hid_dim\n",
    "        self.n_layers = n_layers\n",
    "        \n",
    "        self.embedding = nn.Embedding(output_dim, emb_dim)\n",
    "        \n",
    "        self.rnn = nn.LSTM(emb_dim, hid_dim, n_layers, dropout = dropout)\n",
    "        \n",
    "        self.fc_out = nn.Linear(hid_dim, output_dim)\n",
    "        \n",
    "        self.dropout = nn.Dropout(dropout)\n",
    "        \n",
    "    def forward(self, input, hidden, cell):\n",
    "        \n",
    "        \n",
    "        \n",
    "        input = input.unsqueeze(0)\n",
    "        \n",
    "        #input = [1, batch size]\n",
    "        \n",
    "        embedded = self.dropout(self.embedding(input))\n",
    "        \n",
    "        #embedded = [1, batch size, emb dim]\n",
    "                \n",
    "        output, (hidden, cell) = self.rnn(embedded, (hidden, cell))\n",
    "      \n",
    "        prediction = self.fc_out(output.squeeze(0))\n",
    "        \n",
    "        #prediction = [batch size, output dim]\n",
    "        \n",
    "        return prediction, hidden, cell"
   ]
  },
  {
   "cell_type": "markdown",
   "metadata": {
    "id": "-Wu5X29KNJBe"
   },
   "source": [
    "This is the final part of implementation of the model. It takes the encoder, decoder and the device.\n",
    "\n",
    "It receives the input/source sentence\n",
    "\n",
    "It uses the encoder to produce the context vectors\n",
    "\n",
    "It uses the decoder to produce the predicted output/target sentence"
   ]
  },
  {
   "cell_type": "code",
   "execution_count": null,
   "metadata": {
    "id": "eiZFmdm-hF5A"
   },
   "outputs": [],
   "source": [
    "class Seq2Seq(nn.Module):\n",
    "    def __init__(self, encoder, decoder, device):\n",
    "        super().__init__()\n",
    "        \n",
    "        self.encoder = encoder\n",
    "        self.decoder = decoder\n",
    "        self.device = device\n",
    "        \n",
    "        assert encoder.hid_dim == decoder.hid_dim, \\\n",
    "            \"Hidden dimensions of encoder and decoder must be equal!\"\n",
    "        assert encoder.n_layers == decoder.n_layers, \\\n",
    "            \"Encoder and decoder must have equal number of layers!\"\n",
    "        \n",
    "    def forward(self, src, trg, teacher_forcing_ratio = 0.5):\n",
    "        \n",
    "        \n",
    "        \n",
    "        batch_size = trg.shape[1]\n",
    "        trg_len = trg.shape[0]\n",
    "        trg_vocab_size = self.decoder.output_dim\n",
    "        \n",
    "        #tensor to store decoder outputs\n",
    "        outputs = torch.zeros(trg_len, batch_size, trg_vocab_size).to(self.device)\n",
    "        \n",
    "        #last hidden state of the encoder is used as the initial hidden state of the decoder\n",
    "        hidden, cell = self.encoder(src)\n",
    "        \n",
    "        #first input to the decoder is the <sos> tokens\n",
    "        input = trg[0,:]\n",
    "        \n",
    "        for t in range(1, trg_len):\n",
    "            \n",
    "            \n",
    "            output, hidden, cell = self.decoder(input, hidden, cell)\n",
    "            \n",
    "            #place predictions in a tensor holding predictions for each token\n",
    "            outputs[t] = output\n",
    "            \n",
    "            #decide if we are going to use teacher forcing or not\n",
    "            teacher_force = random.random() < teacher_forcing_ratio\n",
    "            \n",
    "            #get the highest predicted token from our predictions\n",
    "            top1 = output.argmax(1) \n",
    "            \n",
    "            \n",
    "            input = trg[t] if teacher_force else top1\n",
    "        \n",
    "        return outputs"
   ]
  },
  {
   "cell_type": "markdown",
   "metadata": {
    "id": "KoRKogvCNNUH"
   },
   "source": [
    "The arguments taken in the init function: Refences taken from https://colab.research.google.com/github/bentrevett/pytorch-seq2seq/blob/master/1%20-%20Sequence%20to%20Sequence%20Learning%20with%20Neural%20Networks.ipynb#scrollTo=hNLD3U-dMoNd\n",
    "\n",
    "**input_dim** is the size/dimensionality of the one-hot vectors that will be input to the encoder. This is equal to the input (source) vocabulary size.\n",
    "**emb_dim** is the dimensionality of the embedding layer. This layer converts the one-hot vectors into dense vectors with emb_dim dimensions.\n",
    "**hid_dim** is the dimensionality of the hidden and cell states.\n",
    "n_layers is the number of layers in the RNN.\n",
    "**dropout** is the amount of dropout to use. This is a regularization parameter to prevent overfitting. Check out this for more details about dropout."
   ]
  },
  {
   "cell_type": "code",
   "execution_count": null,
   "metadata": {
    "id": "7esKVJ_ChF14"
   },
   "outputs": [],
   "source": [
    "INPUT_DIM = len(SRC.vocab)\n",
    "OUTPUT_DIM = len(TRG.vocab)\n",
    "ENC_EMB_DIM = 256\n",
    "DEC_EMB_DIM = 256\n",
    "HID_DIM = 512\n",
    "N_LAYERS = 2\n",
    "ENC_DROPOUT = 0.5\n",
    "DEC_DROPOUT = 0.5\n",
    "\n",
    "enc = Encoder(INPUT_DIM, ENC_EMB_DIM, HID_DIM, N_LAYERS, ENC_DROPOUT)\n",
    "dec = Decoder(OUTPUT_DIM, DEC_EMB_DIM, HID_DIM, N_LAYERS, DEC_DROPOUT)\n",
    "\n",
    "model = Seq2Seq(enc, dec, device).to(device)"
   ]
  },
  {
   "cell_type": "markdown",
   "metadata": {
    "id": "I_EYbQPeNW8q"
   },
   "source": [
    "Next is initializing the weights of our model. In the cited paper, they state they initialize all weights from a uniform distribution between -0.08 and +0.08. We have used nn.init.uniform function to create weights."
   ]
  },
  {
   "cell_type": "code",
   "execution_count": null,
   "metadata": {
    "colab": {
     "base_uri": "https://localhost:8080/"
    },
    "id": "rKcPmT5-hrRg",
    "outputId": "3c2bf573-2a35-4127-cb11-84bfa822d77b"
   },
   "outputs": [
    {
     "data": {
      "text/plain": [
       "Seq2Seq(\n",
       "  (encoder): Encoder(\n",
       "    (embedding): Embedding(8628, 256)\n",
       "    (rnn): LSTM(256, 512, num_layers=2, dropout=0.5)\n",
       "    (dropout): Dropout(p=0.5, inplace=False)\n",
       "  )\n",
       "  (decoder): Decoder(\n",
       "    (embedding): Embedding(9640, 256)\n",
       "    (rnn): LSTM(256, 512, num_layers=2, dropout=0.5)\n",
       "    (fc_out): Linear(in_features=512, out_features=9640, bias=True)\n",
       "    (dropout): Dropout(p=0.5, inplace=False)\n",
       "  )\n",
       ")"
      ]
     },
     "execution_count": 32,
     "metadata": {
      "tags": []
     },
     "output_type": "execute_result"
    }
   ],
   "source": [
    "def init_weights(m):\n",
    "    for name, param in m.named_parameters():\n",
    "        nn.init.uniform_(param.data, -0.08, 0.08)\n",
    "        \n",
    "model.apply(init_weights)"
   ]
  },
  {
   "cell_type": "code",
   "execution_count": null,
   "metadata": {
    "colab": {
     "base_uri": "https://localhost:8080/"
    },
    "id": "PBBxuHC9hrXY",
    "outputId": "7a8862a5-72f6-495c-fec9-26cf0259c76e"
   },
   "outputs": [
    {
     "name": "stdout",
     "output_type": "stream",
     "text": [
      "The model has 16,978,344 trainable parameters\n"
     ]
    }
   ],
   "source": [
    "def count_parameters(model):\n",
    "    return sum(p.numel() for p in model.parameters() if p.requires_grad)\n",
    "\n",
    "print(f'The model has {count_parameters(model):,} trainable parameters')"
   ]
  },
  {
   "cell_type": "markdown",
   "metadata": {
    "id": "ndlx3rD1Na8-"
   },
   "source": [
    "We are using Adam Optimizer for our model. The loss function are calculated used cross entropy"
   ]
  },
  {
   "cell_type": "code",
   "execution_count": null,
   "metadata": {
    "id": "tWiw5mWrhrlw"
   },
   "outputs": [],
   "source": [
    "optimizer = optim.Adam(model.parameters()) "
   ]
  },
  {
   "cell_type": "code",
   "execution_count": null,
   "metadata": {
    "id": "HkXYK0T4hrrW"
   },
   "outputs": [],
   "source": [
    "TRG_PAD_IDX = TRG.vocab.stoi[TRG.pad_token]\n",
    "\n",
    "criterion = nn.CrossEntropyLoss(ignore_index = TRG_PAD_IDX)"
   ]
  },
  {
   "cell_type": "code",
   "execution_count": null,
   "metadata": {
    "id": "JCn3Xn2hhrou"
   },
   "outputs": [],
   "source": [
    "def train(model, iterator, optimizer, criterion, clip =1):\n",
    "    \n",
    "    model.train()\n",
    "    \n",
    "    epoch_loss = 0\n",
    "    \n",
    "    for i, batch in enumerate(iterator):\n",
    "        \n",
    "        src = batch.Japanese\n",
    "        trg = batch.English\n",
    "        \n",
    "        optimizer.zero_grad()\n",
    "        \n",
    "        output = model(src, trg)\n",
    "        \n",
    "        #trg = [trg len, batch size]\n",
    "        #output = [trg len, batch size, output dim]\n",
    "        \n",
    "        output_dim = output.shape[-1]\n",
    "        \n",
    "        output = output[1:].view(-1, output_dim)\n",
    "        trg = trg[1:].view(-1)\n",
    "        \n",
    "        \n",
    "        loss = criterion(output, trg)\n",
    "        \n",
    "        loss.backward()\n",
    "        \n",
    "        torch.nn.utils.clip_grad_norm_(model.parameters(), clip)\n",
    "        \n",
    "        optimizer.step()\n",
    "        \n",
    "        epoch_loss += loss.item()\n",
    "        \n",
    "    return epoch_loss / len(iterator)"
   ]
  },
  {
   "cell_type": "code",
   "execution_count": null,
   "metadata": {
    "id": "1uHBhR7thrcN"
   },
   "outputs": [],
   "source": [
    "def evaluate(model, iterator, criterion):\n",
    "    \n",
    "    model.eval()\n",
    "    \n",
    "    epoch_loss = 0\n",
    "    \n",
    "    with torch.no_grad():\n",
    "    \n",
    "        for i, batch in enumerate(iterator):\n",
    "\n",
    "            src = batch.Japanese\n",
    "            trg = batch.English\n",
    "\n",
    "            output = model(src, trg, 0) \n",
    "\n",
    "            output_dim = output.shape[-1]\n",
    "            \n",
    "            output = output[1:].view(-1, output_dim)\n",
    "\n",
    "            trg = trg[1:].view(-1)\n",
    "\n",
    "            loss = criterion(output, trg)\n",
    "            \n",
    "            epoch_loss += loss.item()\n",
    "        \n",
    "    return epoch_loss / len(iterator)"
   ]
  },
  {
   "cell_type": "code",
   "execution_count": null,
   "metadata": {
    "id": "oW0cL6GohrUq"
   },
   "outputs": [],
   "source": [
    "def epoch_time(start_time, end_time):\n",
    "    elapsed_time = end_time - start_time\n",
    "    elapsed_mins = int(elapsed_time / 60)\n",
    "    elapsed_secs = int(elapsed_time - (elapsed_mins * 60))\n",
    "    return elapsed_mins, elapsed_secs"
   ]
  },
  {
   "cell_type": "code",
   "execution_count": null,
   "metadata": {
    "colab": {
     "base_uri": "https://localhost:8080/"
    },
    "id": "vDc_kp0riQoh",
    "outputId": "29991202-5875-4a7e-813f-3d0362884785"
   },
   "outputs": [
    {
     "name": "stdout",
     "output_type": "stream",
     "text": [
      "Epoch: 01 | Time: 0m 59s\n",
      "\tTrain Loss: 5.188 | Train PPL: 179.150\n",
      "\t Val. Loss: 4.471 |  Val. PPL:  87.409\n",
      "Epoch: 02 | Time: 0m 59s\n",
      "\tTrain Loss: 4.386 | Train PPL:  80.332\n",
      "\t Val. Loss: 4.223 |  Val. PPL:  68.210\n",
      "Epoch: 03 | Time: 0m 59s\n",
      "\tTrain Loss: 3.923 | Train PPL:  50.547\n",
      "\t Val. Loss: 4.135 |  Val. PPL:  62.491\n",
      "Epoch: 04 | Time: 0m 59s\n",
      "\tTrain Loss: 3.550 | Train PPL:  34.812\n",
      "\t Val. Loss: 4.111 |  Val. PPL:  61.025\n",
      "Epoch: 05 | Time: 0m 59s\n",
      "\tTrain Loss: 3.243 | Train PPL:  25.608\n",
      "\t Val. Loss: 4.117 |  Val. PPL:  61.385\n",
      "Epoch: 06 | Time: 0m 59s\n",
      "\tTrain Loss: 2.982 | Train PPL:  19.720\n",
      "\t Val. Loss: 4.165 |  Val. PPL:  64.415\n",
      "Epoch: 07 | Time: 0m 59s\n",
      "\tTrain Loss: 2.751 | Train PPL:  15.666\n",
      "\t Val. Loss: 4.217 |  Val. PPL:  67.835\n",
      "Epoch: 08 | Time: 0m 59s\n",
      "\tTrain Loss: 2.561 | Train PPL:  12.954\n",
      "\t Val. Loss: 4.233 |  Val. PPL:  68.948\n",
      "Epoch: 09 | Time: 0m 59s\n",
      "\tTrain Loss: 2.383 | Train PPL:  10.833\n",
      "\t Val. Loss: 4.316 |  Val. PPL:  74.886\n",
      "Epoch: 10 | Time: 0m 59s\n",
      "\tTrain Loss: 2.228 | Train PPL:   9.283\n",
      "\t Val. Loss: 4.360 |  Val. PPL:  78.284\n"
     ]
    }
   ],
   "source": [
    "N_EPOCHS = 10\n",
    "\n",
    "best_valid_loss = float('inf')\n",
    "\n",
    "for epoch in range(N_EPOCHS):\n",
    "    \n",
    "    start_time = time.time()\n",
    "    \n",
    "    train_loss = train(model,\n",
    "              train_iter,\n",
    "              optimizer,\n",
    "              criterion)\n",
    "    valid_loss = evaluate(model,\n",
    "              valid_iter,\n",
    "              criterion)\n",
    "    \n",
    "    end_time = time.time()\n",
    "    \n",
    "    epoch_mins, epoch_secs = epoch_time(start_time, end_time)\n",
    "    \n",
    "    if valid_loss < best_valid_loss:\n",
    "        best_valid_loss = valid_loss\n",
    "        torch.save(model.state_dict(), 'tut1-model.pt')\n",
    "    \n",
    "    print(f'Epoch: {epoch+1:02} | Time: {epoch_mins}m {epoch_secs}s')\n",
    "    print(f'\\tTrain Loss: {train_loss:.3f} | Train PPL: {math.exp(train_loss):7.3f}')\n",
    "    print(f'\\t Val. Loss: {valid_loss:.3f} |  Val. PPL: {math.exp(valid_loss):7.3f}')"
   ]
  },
  {
   "cell_type": "markdown",
   "metadata": {
    "id": "ERhtqcpZXQkO"
   },
   "source": []
  },
  {
   "cell_type": "code",
   "execution_count": null,
   "metadata": {
    "colab": {
     "base_uri": "https://localhost:8080/"
    },
    "id": "F7GplYuQe7dj",
    "outputId": "ba238a9a-2a4d-4db5-9b98-e825e89df139"
   },
   "outputs": [
    {
     "name": "stdout",
     "output_type": "stream",
     "text": [
      "| Test Loss: 4.141 | Test PPL:  62.839 |\n"
     ]
    }
   ],
   "source": [
    "model.load_state_dict(torch.load('tut1-model.pt'))\n",
    "\n",
    "test_loss = evaluate(model, test_iter, criterion)\n",
    "\n",
    "print(f'| Test Loss: {test_loss:.3f} | Test PPL: {math.exp(test_loss):7.3f} |')"
   ]
  },
  {
   "cell_type": "code",
   "execution_count": null,
   "metadata": {
    "id": "Xc6bZKqRspgR"
   },
   "outputs": [],
   "source": [
    "def translate_sentence(sentence,src_field,trg_field,model,device, max_len=50):\n",
    "    model.eval()\n",
    "\n",
    "    if isinstance(sentence,str):\n",
    "        nlp = spacy.load('ja_core_news_sm') \n",
    "        tokens = [token.text for token in nlp(sentence)]\n",
    "    else:\n",
    "        tokens = [token for token in sentence]\n",
    "\n",
    "    tokens = [src_field.init_token] + tokens + [src_field.eos_token]\n",
    "\n",
    "    src_indexes = [src_field.vocab.stoi[token] for token in tokens]\n",
    "    src_tensor = torch.LongTensor(src_indexes).unsqueeze(1).to(device)\n",
    "\n",
    "    with torch.no_grad():\n",
    "        hidden, cell = model.encoder(src_tensor)\n",
    "\n",
    "    trg_indexes = [trg_field.vocab.stoi[trg_field.init_token]]\n",
    "\n",
    "    #\n",
    "    for i in range(max_len):\n",
    "        trg_tensor = torch.LongTensor([trg_indexes[-1]]).to(device)\n",
    "\n",
    "        with torch.no_grad():\n",
    "            output, hidden, cell = model.decoder(trg_tensor, hidden, cell)\n",
    "        pred_token = output.argmax(1).item()\n",
    "        trg_indexes.append(pred_token)\n",
    "        if pred_token == trg_field.vocab.stoi[trg_field.eos_token]:\n",
    "            break\n",
    "    trg_tokens = [trg_field.vocab.itos[i] for i in trg_indexes]\n",
    "\n",
    "    return trg_tokens[1:-1] # remove <sos> and <eos>"
   ]
  },
  {
   "cell_type": "code",
   "execution_count": null,
   "metadata": {
    "id": "MENnje85e7gO"
   },
   "outputs": [],
   "source": [
    "from torchtext.data.metrics import bleu_score\n",
    "\n",
    "def calculate_bleu(data, src_field, trg_field, model, device, max_len = 50):\n",
    "    \n",
    "    trgs = []\n",
    "    pred_trgs = []\n",
    "    \n",
    "    for datum in data:\n",
    "        \n",
    "        src = vars(datum)['Japanese']\n",
    "        trg = vars(datum)['English']\n",
    "        \n",
    "        pred_trg = translate_sentence(src, src_field, trg_field, model, device, max_len)\n",
    "        \n",
    "        #cut off <eos> token\n",
    "        #pred_trg = pred_trg[:-1]\n",
    "        \n",
    "        pred_trgs.append(pred_trg)\n",
    "        trgs.append([trg])\n",
    "        \n",
    "    return bleu_score(pred_trgs, trgs)"
   ]
  },
  {
   "cell_type": "code",
   "execution_count": 107,
   "metadata": {
    "colab": {
     "base_uri": "https://localhost:8080/"
    },
    "id": "1OaofzoAIxp0",
    "outputId": "249ff8d0-4a1d-4cf5-f695-9419cb5c8f7a"
   },
   "outputs": [
    {
     "name": "stdout",
     "output_type": "stream",
     "text": [
      "predicted trg = ['kyoto']\n"
     ]
    }
   ],
   "source": [
    "translation = translate_sentence('京都', SRC, TRG, model, device)\n",
    "\n",
    "print(f'predicted trg = {translation}')"
   ]
  },
  {
   "cell_type": "code",
   "execution_count": null,
   "metadata": {
    "colab": {
     "base_uri": "https://localhost:8080/"
    },
    "id": "uiBJDApre7i2",
    "outputId": "ba36b060-cd38-4a46-eb8a-d1ddad202b56"
   },
   "outputs": [
    {
     "name": "stdout",
     "output_type": "stream",
     "text": [
      "BLEU score = 4.28\n"
     ]
    }
   ],
   "source": [
    "bleu_score = calculate_bleu(test, SRC, TRG, model, device)\n",
    "\n",
    "print(f'BLEU score = {bleu_score*100:.2f}')"
   ]
  },
  {
   "cell_type": "markdown",
   "metadata": {
    "id": "nHDFz9o8Z5Ye"
   },
   "source": [
    "# Justification of Metrics:\n",
    "\n",
    "## Preplexity\n",
    "In information theory, perplexity is a measurement of how well a probability distribution or probability model predicts a sample. It may be used to compare probability models. A low perplexity indicates the probability distribution is good at predicting the sample.\n",
    "\n",
    "\n",
    "\n",
    "\n",
    "In natural language processing, perplexity is a way of evaluating language models. A language model is a probability distribution over entire sentences or texts.\n",
    "\n",
    "## BLEU Score\n",
    "We are using the BLEU metric in our model as this is the basic metric which provides quick and  quality assessment of our translation. It measures direct word-to-word similarity that provides first hand analysis of the quality of our translation.BLEU has frequently been reported as correlating well with human judgement\n"
   ]
  },
  {
   "cell_type": "markdown",
   "metadata": {
    "id": "4aik-boaQw-U"
   },
   "source": [
    "# CONCLUSION\n",
    "Our end goal is to create Transformer model based approach for the project. So, as a baseline model we have created seq2seq models with encoder and decoder which is a commonly used recurrent neural network. \n",
    "This model was first Introduced in the paper \"Sequence to Sequence Learning\n",
    "with Neural Networks\" (https://arxiv.org/pdf/1409.3215.pdf). We coded up the models in PyTorch and using TorchText to help us do all of the pre-processing required. We Used spaCy to assist in the tokenization of the data.\n",
    "\n",
    "As we can see the bleu score is quite low for our model. We think that it is because the dataset is very small. As we can see above the word Kyoto is being translated correctly as Kyoto. Because the dataset is based on Kyoto and as the frequency of the word Kyoto is more our model translated it correctly. \n",
    "\n",
    "And also we have set the min_freq = 2 which means the words with one frequency is tagged as <UNK>. And when we tested with unseen words to the model it predicts only <UNK>\n",
    "\n",
    "We think this is because the dataset is not huge enough. And our next step in this project is to use a huge dataset set and we are replacing the seq2seq to attention so that we can implement a transformer model."
   ]
  },
  {
   "cell_type": "markdown",
   "metadata": {
    "id": "hHJ1MXgaXs1S"
   },
   "source": [
    "# REFERENCES\n",
    "\n",
    "1) https://charon.me/posts/pytorch/pytorch_seq2seq_1/\n",
    "\n",
    "\n",
    "\n",
    "\n",
    "2) https://github.com/bentrevett/pytorch-seq2seq\n",
    "\n",
    "\n",
    "\n",
    "\n",
    "3) https://www.guru99.com/seq2seq-model.html\n",
    "\n",
    "\n",
    "\n",
    "\n",
    "4) https://arxiv.org/pdf/1409.3215.pdf\n",
    "\n",
    "\n",
    "\n",
    "\n",
    "5) https://www.kaggle.com/phunghieu/transformer-demo/log\n",
    "\n",
    "\n",
    "\n",
    "6) https://en.wikipedia.org/wiki/Perplexity\n"
   ]
  },
  {
   "cell_type": "code",
   "execution_count": 3,
   "metadata": {},
   "outputs": [
    {
     "name": "stdout",
     "output_type": "stream",
     "text": [
      "\tTrain Loss: 66.000 | Train PPL: 46071866343312917806440251392.000\n"
     ]
    }
   ],
   "source": [
    "train_loss = 66\n",
    "import math\n",
    "print(f'\\tTrain Loss: {train_loss:.3f} | Train PPL: {math.exp(train_loss):7.3f}')"
   ]
  },
  {
   "cell_type": "code",
   "execution_count": null,
   "metadata": {},
   "outputs": [],
   "source": []
  }
 ],
 "metadata": {
  "accelerator": "GPU",
  "colab": {
   "collapsed_sections": [],
   "name": "Project Deliverable 1",
   "provenance": []
  },
  "kernelspec": {
   "display_name": "Python 3",
   "language": "python",
   "name": "python3"
  },
  "language_info": {
   "codemirror_mode": {
    "name": "ipython",
    "version": 3
   },
   "file_extension": ".py",
   "mimetype": "text/x-python",
   "name": "python",
   "nbconvert_exporter": "python",
   "pygments_lexer": "ipython3",
   "version": "3.8.3"
  }
 },
 "nbformat": 4,
 "nbformat_minor": 1
}
